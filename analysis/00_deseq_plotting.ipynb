{
 "cells": [
  {
   "attachments": {},
   "cell_type": "markdown",
   "id": "e5e96e8e",
   "metadata": {},
   "source": [
    "# tRNA-seq with E.coli total RNA spike-in\n",
    "\n",
    "All figures are in the \"figs\" folder.\n",
    "\n",
    "DESeq result tables are in the \"deseq_results\" folder.\n",
    "\n",
    "Remember to change \"human\", \"Homo sapiens\", paths to files etc. to match your data!"
   ]
  },
  {
   "cell_type": "code",
   "execution_count": null,
   "id": "9dcda915-8d2d-4598-b17a-f3410ed2aca3",
   "metadata": {
    "tags": []
   },
   "outputs": [],
   "source": [
    "import pandas as pd\n",
    "import numpy as np\n",
    "import matplotlib.pyplot as plt\n",
    "import matplotlib.patches as mpatches\n",
    "import seaborn as sns\n",
    "from adjustText import adjust_text"
   ]
  },
  {
   "cell_type": "code",
   "execution_count": null,
   "id": "fb08bd86-35b5-4662-bc49-08b95b0b067b",
   "metadata": {
    "tags": []
   },
   "outputs": [],
   "source": [
    "def rev_comp(anticodon):\n",
    "    mapping = {'A':'T', 'T':'A', 'C':'G', 'G':'C'}\n",
    "    res = ''.join([mapping.get(i, i) for i in anticodon[::-1]])\n",
    "    return res"
   ]
  },
  {
   "cell_type": "code",
   "execution_count": null,
   "id": "ed1de0cc-e8dc-4bc7-9c5b-ea8c8e209019",
   "metadata": {
    "tags": []
   },
   "outputs": [],
   "source": [
    "def label_point(x, y, val, ax):\n",
    "    a = pd.concat({'x': x, 'y': y, 'val': val}, axis=1)\n",
    "    for i, point in a.iterrows():\n",
    "        ax.text(point['x']+.02, point['y'], str(point['val']))\n",
    "\n",
    "def plot_volcano(df, save=None, labels=True,xlim=None, ylim=None, figsize=(12,12),title=None):\n",
    "    df_ns = df[df['padj'] >= 0.01]\n",
    "    df_significant = df[df['padj'] < 0.01]\n",
    "    plt.figure(figsize=figsize)\n",
    "    g = sns.scatterplot(data=df_ns, x=\"log2FoldChange\", y=-np.log10(df_ns['padj']), color='grey')\n",
    "    h = sns.scatterplot(data=df_significant, x=\"log2FoldChange\", y=-np.log10(df_significant['padj']), color='blue', s=80)\n",
    "    # g.set(ylim=(-1,60))\n",
    "    if xlim is not None:\n",
    "        g.set(xlim=xlim)\n",
    "    g.set(ylabel='-log10(Padj)')\n",
    "    g.set(xlabel='log2FC')\n",
    "    g.axvline(0, alpha=0.5)\n",
    "    g.axhline(2, alpha=0.5, c='red')\n",
    "    if labels is True:\n",
    "        texts = []\n",
    "        for x, y, s in zip(df_significant['log2FoldChange'].tolist(), (-np.log10(df_significant['padj'])).tolist(), df_significant['gene'].tolist()):\n",
    "            texts.append(plt.text(x, y, s, fontsize=12))\n",
    "        # label_point(df03b_significant['log2FoldChange'], -np.log10(df03b_significant['padj']), df03b_significant['gene'], h)\n",
    "        adjust_text(texts, only_move={'points':'y', 'texts':'y'}, arrowprops=dict(arrowstyle=\"->\", color='r', lw=0.5), expand_points=(2,2))\n",
    "        for item in ([g.title, g.xaxis.label, g.yaxis.label] +\n",
    "                     g.get_xticklabels() + g.get_yticklabels()):\n",
    "            item.set_fontsize(15)\n",
    "    sign = mpatches.Patch(color='blue', label=\"adjusted p < 0.01\")\n",
    "    notsign = mpatches.Patch(color='grey', label=\"ns\")\n",
    "    plt.legend(handles=[sign, notsign], fontsize=12)\n",
    "    plt.suptitle(title)\n",
    "    if save is not None:\n",
    "        plt.savefig(save, dpi=300, bbox_inches='tight')\n",
    "    plt.show()"
   ]
  },
  {
   "attachments": {},
   "cell_type": "markdown",
   "id": "0487b44f-c350-42c8-b6e1-87ae2b3fec93",
   "metadata": {
    "tags": []
   },
   "source": [
    "### DESeq"
   ]
  },
  {
   "attachments": {},
   "cell_type": "markdown",
   "id": "17bfe7a5",
   "metadata": {},
   "source": [
    "rpy2 is required to run DESeq2 inside this notebook. If you don't have it, it can be installed with the following line run inside the notebook:\n",
    "\n",
    "!pip install rpy2"
   ]
  },
  {
   "cell_type": "code",
   "execution_count": null,
   "id": "6aaabb9f-df44-4764-abf5-0d6874265a43",
   "metadata": {
    "tags": []
   },
   "outputs": [],
   "source": [
    "%load_ext rpy2.ipython"
   ]
  },
  {
   "cell_type": "code",
   "execution_count": null,
   "id": "f887f6ee-f235-4598-bb17-aa34090ca55b",
   "metadata": {
    "scrolled": true,
    "tags": []
   },
   "outputs": [],
   "source": [
    "%%R\n",
    "\n",
    "library(\"DESeq2\", quietly = T)\n",
    "# library(\"tximport\", quietly = T)\n",
    "library(\"dplyr\", quietly = T)\n",
    "library(\"ggplot2\", quietly = T)\n",
    "library(\"purrr\", quietly = T)\n",
    "library(\"pheatmap\", quietly = T)\n",
    "library(\"RColorBrewer\", quietly = T)"
   ]
  },
  {
   "attachments": {},
   "cell_type": "markdown",
   "id": "c6931671-7e84-4719-bc9f-4414f594e72d",
   "metadata": {},
   "source": [
    "Load featureCounts results. The fastest way is to put them in a separate folder and then read all files in it:"
   ]
  },
  {
   "cell_type": "code",
   "execution_count": null,
   "id": "8ab87f76-aad4-47ef-b2e9-410cc1c18cc8",
   "metadata": {
    "tags": []
   },
   "outputs": [],
   "source": [
    "%%R\n",
    "\n",
    "# Set path to folder with FC results\n",
    "files <- list.files(\"03_featureCounts\", full.names = T)\n",
    "# Ignore the summary files\n",
    "files <- files[which(!grepl(\".summary\", files))]\n",
    "\n",
    "cts <- lapply(files, function(x) read.csv(x, sep='\\t', skip=1, stringsAsFactors=F))\n",
    "# Join all files into a single dataframe\n",
    "by_cols <- colnames(cts[[1]])[1:6]\n",
    "cts <- cts %>% reduce(full_join, by = by_cols)\n",
    "rownames(cts) <- cts$Geneid\n",
    "# Drop unnecessary columns\n",
    "drops <- c(\"Geneid\", \"Chr\", \"Start\", \"End\", \"Strand\", \"Length\")\n",
    "cts <- cts[ , !(names(cts) %in% drops)]\n",
    "# Clean up column names (change this depending on your file names)\n",
    "colnames(cts) <- gsub(\"X02_alignment_bam.\", \"\", colnames(cts))\n",
    "colnames(cts)"
   ]
  },
  {
   "attachments": {},
   "cell_type": "markdown",
   "id": "2fe6028b-e0cf-478b-9cbf-9be0b2e4bcdc",
   "metadata": {
    "tags": []
   },
   "source": [
    "Add condition (or cell line, treatment, etc.) information.\n",
    "\n",
    "**IMPORTANT:** Make sure that samples and conditions are properly matched in the output below!"
   ]
  },
  {
   "cell_type": "code",
   "execution_count": null,
   "id": "9bb8058f-f472-4270-8709-d6b7845e2753",
   "metadata": {
    "tags": []
   },
   "outputs": [],
   "source": [
    "%%R\n",
    "\n",
    "# Add condition information\n",
    "coldata <- data.frame(line = rep(c(\"WT\",\"POLR2B_HF\",\"POLR2B_HF_POLR3A_mut\"),3), row.names = colnames(cts))\n",
    "#                     ~~~~~~~~~~~~~~~~~~~~~~~~~~~~~~~~~~~~~~~~~~~~~~~~~~~~~~~~\n",
    "# here ----------------------------^\n",
    "coldata"
   ]
  },
  {
   "attachments": {},
   "cell_type": "markdown",
   "id": "a80406c0-152e-4c87-8505-e4eb6b639669",
   "metadata": {},
   "source": [
    "Use E. coli genes to estimate size factors (this is the recommended method to use spike-ins in DESeq, as mentioned [here](https://support.bioconductor.org/p/9149000/#9149006)"
   ]
  },
  {
   "cell_type": "code",
   "execution_count": null,
   "id": "5f8486c1-db78-4acd-9b4d-39f46ed9626b",
   "metadata": {
    "tags": []
   },
   "outputs": [],
   "source": [
    "%%R\n",
    "\n",
    "# Separate target and spike-in counts\n",
    "cts_coli <- cts[which(grepl(\"Escherichia\", rownames(cts))),]\n",
    "cts_human <- cts[which(grepl(\"Homo\", rownames(cts))),]\n",
    "dds <- DESeqDataSetFromMatrix(countData = cts,\n",
    "                              colData = coldata,\n",
    "                              design = ~ line)\n",
    "\n",
    "dds <- estimateSizeFactors(dds, controlGenes=which(grepl(\"Escherichia\", rownames(cts))))\n",
    "dds <- dds[which(grepl(\"Homo\", rownames(cts))),]"
   ]
  },
  {
   "attachments": {},
   "cell_type": "markdown",
   "id": "8881608c-7dc2-4764-ba75-46353fe4481a",
   "metadata": {},
   "source": [
    "Plot PCA and distance heatmap for all samples"
   ]
  },
  {
   "cell_type": "code",
   "execution_count": null,
   "id": "e99d1e4a-93e0-4de4-84ef-25e4752e0a16",
   "metadata": {
    "tags": []
   },
   "outputs": [],
   "source": [
    "%%R\n",
    "\n",
    "# PCA\n",
    "rld <- rlog(dds, blind = FALSE)\n",
    "pcaData <- plotPCA(rld, intgroup = c(\"line\"), returnData = T)\n",
    "percentVar <- round(100 * attr(pcaData, \"percentVar\"))\n",
    "g = ggplot(pcaData, aes(x = PC1, y = PC2, color = line)) +\n",
    "  geom_point(size =3) +\n",
    "  xlab(paste0(\"PC1: \", percentVar[1], \"% variance\")) +\n",
    "  ylab(paste0(\"PC2: \", percentVar[2], \"% variance\")) +\n",
    "  coord_fixed() +\n",
    "  ggtitle(\"PCA with rlog data\")\n",
    "ggsave(\"figs/PCA.png\")\n",
    "print(g)"
   ]
  },
  {
   "cell_type": "code",
   "execution_count": null,
   "id": "24eda709-e5e4-4393-87cd-d03798f3e65e",
   "metadata": {
    "tags": []
   },
   "outputs": [],
   "source": [
    "%%R\n",
    "\n",
    "sampleDists <- dist(t(assay(rld)))\n",
    "sampleDistMatrix <- as.matrix(sampleDists)\n",
    "rownames(sampleDistMatrix) <- rld$line\n",
    "colnames(sampleDistMatrix) <- NULL\n",
    "colors <- colorRampPalette( rev(brewer.pal(9, \"Blues\")) )(255)\n",
    "g = pheatmap(sampleDistMatrix,\n",
    "         clustering_distance_rows=sampleDists,\n",
    "         clustering_distance_cols=sampleDists,\n",
    "         col=colors)\n",
    "ggsave(\"figs/clustermap.png\", plot=g)"
   ]
  },
  {
   "attachments": {},
   "cell_type": "markdown",
   "id": "e619d925-1450-4782-b6c9-4cab5d089bc1",
   "metadata": {},
   "source": [
    "Run DESeq analysis"
   ]
  },
  {
   "cell_type": "code",
   "execution_count": null,
   "id": "d4668f21-86db-43c8-a156-4a9b68c65ae1",
   "metadata": {
    "tags": []
   },
   "outputs": [],
   "source": [
    "%%R\n",
    "\n",
    "deseq <- DESeq(dds)\n",
    "# deseq_lrt <- DESeq(dds, test = \"LRT\", reduced= ~1)"
   ]
  },
  {
   "attachments": {},
   "cell_type": "markdown",
   "id": "d2b05e9d-2dc9-40c5-b879-659c3d295075",
   "metadata": {},
   "source": [
    "Write result tables (make sure the destination directory exists as R will not create it)"
   ]
  },
  {
   "attachments": {},
   "cell_type": "markdown",
   "id": "65e1a840",
   "metadata": {},
   "source": [
    "MA plots show you how fold changes correlate with read counts (fold change vs tRNA abundance).\n",
    "\n",
    "Statistically significant genes are blue points."
   ]
  },
  {
   "cell_type": "code",
   "execution_count": null,
   "id": "b5a6faec-3043-48be-959e-ae763d058475",
   "metadata": {
    "tags": []
   },
   "outputs": [],
   "source": [
    "%%R\n",
    "\n",
    "res <- results(deseq, contrast = c(\"line\", \"POLR2B_HF\", \"WT\"))\n",
    "write.csv(res, \"deseq_results/deseq_FC_q10_K562_tRNAseq_POLR2B_HF_vs_WT.csv\")\n",
    "plotMA(res)"
   ]
  },
  {
   "cell_type": "code",
   "execution_count": null,
   "id": "82e3fe69-7c32-46af-9cac-79ac6eb7176b",
   "metadata": {
    "tags": []
   },
   "outputs": [],
   "source": [
    "%%R\n",
    "\n",
    "res <- results(deseq, contrast = c(\"line\", \"POLR2B_HF_POLR3A_mut\", \"POLR2B_HF\"))\n",
    "write.csv(res, \"deseq_results/deseq_FC_q10_K562_tRNAseq_mutant_vs_POLR2B_HF.csv\")\n",
    "plotMA(res)"
   ]
  },
  {
   "cell_type": "code",
   "execution_count": null,
   "id": "b09f0764-9072-40e0-8e40-3cd0a9aa817e",
   "metadata": {
    "tags": []
   },
   "outputs": [],
   "source": []
  },
  {
   "attachments": {},
   "cell_type": "markdown",
   "id": "89af964a-e26f-459f-abe3-6dbf8474b11a",
   "metadata": {
    "tags": []
   },
   "source": [
    "### Plotting results"
   ]
  },
  {
   "cell_type": "code",
   "execution_count": null,
   "id": "bdfeef5a-0420-4521-bdff-410c695c7631",
   "metadata": {
    "tags": []
   },
   "outputs": [],
   "source": [
    "df00 = pd.read_csv(\"deseq_results/deseq_FC_q10_K562_tRNAseq_POLR2B_HF_vs_WT.csv\")\n",
    "df00.rename({'Unnamed: 0': 'gene'}, axis=1, inplace=True)\n",
    "df00['gene'] = df00['gene'].str.replace(\"Homo_sapiens_tRNA_\", \"\")\n",
    "df00['gene'] = df00['gene'].str.replace(\" \", \"\")\n",
    "df00['anticodon'] = df00['gene'].str.split('_',expand=True)[0]\n",
    "df00['codon'] = df00['anticodon'].str.split('-',expand=True)[1].apply(rev_comp)\n",
    "df01_sig = df00[df00['padj'] < 0.01]\n",
    "df01_sig.sort_values('log2FoldChange', ascending=False)"
   ]
  },
  {
   "attachments": {},
   "cell_type": "markdown",
   "id": "1034bfa1",
   "metadata": {},
   "source": [
    "Control volcano plot size using the \"figsize\" parameter. \"save\" parameter is the filename to save.\n",
    "\n",
    "The \"labels\" parameter controls point labels. Disabling it can significantly speed up plotting"
   ]
  },
  {
   "cell_type": "code",
   "execution_count": null,
   "id": "d7067cab-7d10-4629-8082-8da2eb827ea6",
   "metadata": {
    "tags": []
   },
   "outputs": [],
   "source": [
    "plot_volcano(df00, labels=True, figsize=((5,5)) save=\"figs/volcano_POLR2b_HF_vs_WT\", title=\"tRNAseq DE: POLR2B-HF vs WT\")"
   ]
  },
  {
   "cell_type": "code",
   "execution_count": null,
   "id": "b6aab033-4e9d-43e6-bb6d-b4bc71351809",
   "metadata": {
    "tags": []
   },
   "outputs": [],
   "source": [
    "plt.figure(figsize=(12,5))\n",
    "plt.xticks(rotation=90, ha='center')\n",
    "sns.barplot(data=df01_sig.sort_values('gene', ascending=False), x='gene', y='log2FoldChange', palette='summer')\n",
    "plt.suptitle(\"POLR2B-HF vs WT: Significantly DE isodecoders\")\n",
    "plt.savefig(\"figs/K562_tRNAseq_POLR2B_HF_vs_WT_isodecoders.png\", dpi=300, bbox_inches='tight')"
   ]
  },
  {
   "cell_type": "code",
   "execution_count": null,
   "id": "afabc414-d6ec-4828-ab0e-09ec530a9f23",
   "metadata": {
    "tags": []
   },
   "outputs": [],
   "source": [
    "plt.figure(figsize=(6,10))\n",
    "plt.xticks(rotation=90, ha='center')\n",
    "sns.barplot(data=df01_sig.sort_values('log2FoldChange', ascending=False), x='log2FoldChange', y='anticodon', palette='summer')\n",
    "plt.suptitle(\"POLR2B-HF vs WT: Significantly DE tRNAs aggregated into anticodon groups\")\n",
    "plt.savefig(\"figs/K562_tRNAseq_POLR2B_HF_vs_WT_anticodons_bar.png\", dpi=300, bbox_inches='tight')"
   ]
  },
  {
   "cell_type": "code",
   "execution_count": null,
   "id": "2c343d34-6176-4bb6-9357-e6b460a58e10",
   "metadata": {
    "tags": []
   },
   "outputs": [],
   "source": [
    "df02 = pd.read_csv(\"deseq_results/deseq_FC_q10_K562_tRNAseq_mutant_vs_POLR2B_HF.csv\")\n",
    "df02.rename({'Unnamed: 0': 'gene'}, axis=1, inplace=True)\n",
    "df02['gene'] = df02['gene'].str.replace(\"Homo_sapiens_tRNA_\", \"\")\n",
    "df02['gene'] = df02['gene'].str.replace(\" \", \"\")\n",
    "df02['anticodon'] = df02['gene'].str.split('_',expand=True)[0]\n",
    "df02['codon'] = df02['anticodon'].str.split('-',expand=True)[1].apply(rev_comp)\n",
    "df03_sig = df02[df02['padj'] < 0.01]\n",
    "df03_sig.sort_values('log2FoldChange', ascending=False)"
   ]
  },
  {
   "cell_type": "code",
   "execution_count": null,
   "id": "daf88e04-4214-46f0-aef5-73ff2cf4c142",
   "metadata": {
    "tags": []
   },
   "outputs": [],
   "source": [
    "plot_volcano(df02, labels=True,save=\"figs/volcano_mutant_vs_POLR2b_HF\", title=\"tRNAseq DE: Mutant vs POLR2B-HF\")"
   ]
  },
  {
   "cell_type": "code",
   "execution_count": null,
   "id": "250910ef-7485-4ce4-b6bb-cc10a836f632",
   "metadata": {
    "tags": []
   },
   "outputs": [],
   "source": [
    "plt.figure(figsize=(12,5))\n",
    "plt.xticks(rotation=90, ha='center')\n",
    "sns.barplot(data=df03_sig.sort_values('gene', ascending=False), x='gene', y='log2FoldChange', palette='summer')\n",
    "plt.suptitle(\"mutant vs POLR2B-HF: Significantly DE isodecoders\")\n",
    "plt.savefig(\"figs/mutant_vs_POLR2b_HF_isodecoders_bar.png\", dpi=300, bbox_inches='tight')"
   ]
  },
  {
   "cell_type": "code",
   "execution_count": null,
   "id": "7ae23810-264f-4a80-81cc-928b05dfae44",
   "metadata": {
    "tags": []
   },
   "outputs": [],
   "source": [
    "plt.figure(figsize=(6,10))\n",
    "plt.xticks(rotation=90, ha='center')\n",
    "sns.barplot(data=df03_sig.sort_values('log2FoldChange', ascending=False), x='log2FoldChange', y='anticodon', palette='summer')\n",
    "plt.suptitle(\"POLR2B-HF vs POLR2B-HF: Significantly DE tRNAs aggregated into anticodon groups\")\n",
    "plt.savefig(\"figs/mutant_vs_POLR2b_HF_anticodons_bar.png\", dpi=300, bbox_inches='tight')"
   ]
  },
  {
   "cell_type": "code",
   "execution_count": null,
   "id": "7410086c-295f-4050-9625-728e3683fad4",
   "metadata": {
    "tags": []
   },
   "outputs": [],
   "source": [
    "plt.figure(figsize=(10,6))\n",
    "plt.xticks(rotation=90, ha='center')\n",
    "# plt.xlim(-2,1)\n",
    "sns.barplot(data=df03_sig.sort_values('log2FoldChange', ascending=False), x='anticodon', y='log2FoldChange', palette='summer')\n",
    "plt.suptitle(\"POLR2B-HF vs WT: Significantly DE tRNAs aggregated into anticodon groups\")\n",
    "plt.savefig(\"figs/mutant_vs_POLR2b_HF_anticodons_h.png\", dpi=300, bbox_inches='tight')"
   ]
  }
 ],
 "metadata": {
  "kernelspec": {
   "display_name": "Python 3 (ipykernel)",
   "language": "python",
   "name": "python3"
  },
  "language_info": {
   "codemirror_mode": {
    "name": "ipython",
    "version": 3
   },
   "file_extension": ".py",
   "mimetype": "text/x-python",
   "name": "python",
   "nbconvert_exporter": "python",
   "pygments_lexer": "ipython3",
   "version": "3.10.10"
  }
 },
 "nbformat": 4,
 "nbformat_minor": 5
}
